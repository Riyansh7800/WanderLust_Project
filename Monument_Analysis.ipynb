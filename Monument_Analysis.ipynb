{
  "nbformat": 4,
  "nbformat_minor": 0,
  "metadata": {
    "colab": {
      "provenance": []
    },
    "kernelspec": {
      "name": "python3",
      "display_name": "Python 3"
    },
    "language_info": {
      "name": "python"
    }
  },
  "cells": [
    {
      "cell_type": "code",
      "source": [
        "!pip install python-igraph\n",
        "import pandas as pd\n",
        "import igraph as ig\n",
        "\n",
        "# Load node and edge data from CSV files\n",
        "node_df = pd.read_csv('/content/longitudeandlatitude - longitudeandlatitude.csv')\n",
        "edge_df = pd.read_csv('/content/monument_edges.csv')\n",
        "\n",
        "# Create an empty graph\n",
        "graph = ig.Graph(directed=False)\n",
        "\n",
        "# Extract node IDs and labels\n",
        "node_ids = node_df['ID'].tolist()\n",
        "node_labels = node_df['Label'].tolist()\n",
        "\n",
        "# Add nodes to the graph\n",
        "graph.add_vertices(node_ids)\n",
        "graph.vs['label'] = node_labels\n",
        "\n",
        "# Extract and adjust edge pairs as tuples from the edge DataFrame\n",
        "edge_pairs = list(zip(edge_df['Source'], edge_df['Target']))\n",
        "adjusted_edge_pairs = [(source - 1, target - 1) for source, target in edge_pairs]\n",
        "\n",
        "# Add edges to the graph with adjusted node IDs\n",
        "graph.add_edges(adjusted_edge_pairs)"
      ],
      "metadata": {
        "colab": {
          "base_uri": "https://localhost:8080/"
        },
        "id": "QGK90JHyxQiC",
        "outputId": "505d4646-2adb-4a82-e610-e40dae170faf"
      },
      "execution_count": null,
      "outputs": [
        {
          "output_type": "stream",
          "name": "stdout",
          "text": [
            "Collecting python-igraph\n",
            "  Downloading python_igraph-0.10.6-py3-none-any.whl (9.1 kB)\n",
            "Collecting igraph==0.10.6 (from python-igraph)\n",
            "  Downloading igraph-0.10.6-cp39-abi3-manylinux_2_17_x86_64.manylinux2014_x86_64.whl (3.3 MB)\n",
            "\u001b[2K     \u001b[90m━━━━━━━━━━━━━━━━━━━━━━━━━━━━━━━━━━━━━━━━\u001b[0m \u001b[32m3.3/3.3 MB\u001b[0m \u001b[31m11.4 MB/s\u001b[0m eta \u001b[36m0:00:00\u001b[0m\n",
            "\u001b[?25hCollecting texttable>=1.6.2 (from igraph==0.10.6->python-igraph)\n",
            "  Downloading texttable-1.6.7-py2.py3-none-any.whl (10 kB)\n",
            "Installing collected packages: texttable, igraph, python-igraph\n",
            "Successfully installed igraph-0.10.6 python-igraph-0.10.6 texttable-1.6.7\n"
          ]
        }
      ]
    },
    {
      "cell_type": "code",
      "source": [
        "# Add edge weights as a graph attribute (assuming 'Weight' column in edge_df)\n",
        "graph.es['weight'] = edge_df['Weight'].tolist()\n",
        "\n",
        "degree_centrality = graph.strength(weights='weight')\n",
        "\n",
        "# Calculate betweenness centrality (considering edge weights, weighted)\n",
        "betweenness_centrality = graph.betweenness(weights='weight')\n",
        "\n",
        "# Calculate closeness centrality (considering edge weights, weighted)\n",
        "closeness_centrality = graph.closeness(weights='weight')\n",
        "\n",
        "\n",
        "# Calculate closeness centrality (considering edge weights, weighted)\n",
        "closeness_centrality = graph.closeness(weights='weight')\n",
        "\n",
        "eigen_centrality = graph.evcent(weights='weight')\n",
        "\n",
        "# Create a dictionary to store the centrality measures for each node\n",
        "centrality_measures = {\n",
        "    'Degree Centrality': degree_centrality,\n",
        "    'Betweenness Centrality': betweenness_centrality,\n",
        "    'Closeness Centrality': closeness_centrality,\n",
        "    'Eigenvalue Centrality': eigen_centrality,\n",
        "}\n",
        "\n",
        "# Function to get top 5 nodes based on centrality values\n",
        "def get_top_nodes(centrality_values):\n",
        "    sorted_nodes = sorted(range(len(centrality_values)), key=lambda k: centrality_values[k], reverse=True)\n",
        "    return sorted_nodes[:5]\n",
        "\n",
        "# Print top 5 nodes for each centrality measure\n",
        "for name, values in centrality_measures.items():\n",
        "    print(f\"Top 5 nodes for {name}:\")\n",
        "    top_nodes = get_top_nodes(values)\n",
        "    for node_index in top_nodes:\n",
        "        node_label = node_labels[node_index]\n",
        "        centrality_value = values[node_index]\n",
        "        print(f\"Node Label: {node_label}, Centrality Value: {centrality_value}\")\n",
        "    print()"
      ],
      "metadata": {
        "colab": {
          "base_uri": "https://localhost:8080/"
        },
        "id": "FS0med4qxqYS",
        "outputId": "e786b491-cca0-48ba-b9bb-20433d7e93d5"
      },
      "execution_count": null,
      "outputs": [
        {
          "output_type": "stream",
          "name": "stdout",
          "text": [
            "Top 5 nodes for Degree Centrality:\n",
            "Node Label: Humayun's Tomb, Centrality Value: 191.14\n",
            "Node Label: Hazrat Nizamuddin Shrine, Centrality Value: 172.21\n",
            "Node Label: Safdarjung Tomb, Centrality Value: 171.06000000000003\n",
            "Node Label: sri Sri Radha Parthasarathi - ISKCON temple Sant Nagar, Centrality Value: 169.46000000000006\n",
            "Node Label: Jhandewalan Mandir, Centrality Value: 168.79\n",
            "\n",
            "Top 5 nodes for Betweenness Centrality:\n",
            "Node Label: National Gallery of Modern Art, Centrality Value: 175.0\n",
            "Node Label: Gurudwara Bangla Sahib, Centrality Value: 163.5\n",
            "Node Label: Pragati Maidan, Centrality Value: 155.5\n",
            "Node Label: Jhandewalan Mandir, Centrality Value: 126.0\n",
            "Node Label: Jantar Mantar, Centrality Value: 97.0\n",
            "\n",
            "Top 5 nodes for Closeness Centrality:\n",
            "Node Label: Pragati Maidan, Centrality Value: 0.2387647901522789\n",
            "Node Label: National Gallery of Modern Art, Centrality Value: 0.23625767837454717\n",
            "Node Label: National Museum, Centrality Value: 0.2325942006512638\n",
            "Node Label: National Science Centre Museum, Centrality Value: 0.2297676793464386\n",
            "Node Label: Gurudwara Bangla Sahib, Centrality Value: 0.2258582613932945\n",
            "\n",
            "Top 5 nodes for Eigenvalue Centrality:\n",
            "Node Label: Humayun's Tomb, Centrality Value: 1.0\n",
            "Node Label: sri Sri Radha Parthasarathi - ISKCON temple Sant Nagar, Centrality Value: 0.913591185311522\n",
            "Node Label: Safdarjung Tomb, Centrality Value: 0.9119735188737672\n",
            "Node Label: Hazrat Nizamuddin Shrine, Centrality Value: 0.8911438413240298\n",
            "Node Label: Raj Ghat, Centrality Value: 0.8872142411486766\n",
            "\n"
          ]
        }
      ]
    },
    {
      "cell_type": "code",
      "source": [
        "# Calculate the minimum and maximum degree centrality values\n",
        "min_degree_centrality = min(degree_centrality)\n",
        "max_degree_centrality = max(degree_centrality)\n",
        "\n",
        "# Normalize the degree centrality values using Min-Max normalization\n",
        "normalized_degree_centrality = [(value - min_degree_centrality) / (max_degree_centrality - min_degree_centrality) for value in degree_centrality]\n",
        "max_betweenness_centrality = max(betweenness_centrality)\n",
        "\n",
        "# Normalize the betweenness centrality values by dividing each value by the maximum\n",
        "normalized_betweenness_centrality = [value / max_betweenness_centrality for value in betweenness_centrality]\n",
        "\n",
        "# Create a dictionary to store the centrality measures for each node (including the normalized degree centrality and betweenness centrality)\n",
        "\n",
        "centrality_data = pd.DataFrame({\n",
        "    'Node ID': node_ids,\n",
        "    'Node Label': node_labels,\n",
        "   'Degree Centrality': normalized_degree_centrality,\n",
        "    'Betweenness Centrality': normalized_betweenness_centrality,\n",
        "    'Closeness Centrality': closeness_centrality,\n",
        "    'Eigenvalue Centrality': eigen_centrality,\n",
        "})\n",
        "\n",
        "output_filename = 'centralities_output.csv'\n",
        "centrality_data.to_csv(output_filename, index=False)\n",
        "\n",
        "print(\"Centrality data saved to:\", output_filename)"
      ],
      "metadata": {
        "colab": {
          "base_uri": "https://localhost:8080/"
        },
        "id": "r8LROOLcneKc",
        "outputId": "7e5c245e-5af6-414b-d9d8-0fac68835fb2"
      },
      "execution_count": null,
      "outputs": [
        {
          "output_type": "stream",
          "name": "stdout",
          "text": [
            "Centrality data saved to: centralities_output.csv\n"
          ]
        }
      ]
    },
    {
      "cell_type": "code",
      "source": [
        "ranks_df = pd.read_csv('/content/centrality_output (2).csv')\n",
        "\n",
        "top_nodes_dict = {}\n",
        "\n",
        "# List to store all nodes that appear in the top 5 ranks for all centralities\n",
        "top_nodes_all_centralities = []\n",
        "\n",
        "# Centrality measures column names (modify these based on your CSV file)\n",
        "centrality_columns = ['Degree_Rank', 'Betweeness_Rank', 'closeness_rank', 'Eigenvalue_rank']\n",
        "\n",
        "# Find top 5 nodes for each centrality measure\n",
        "for centrality_measure in centrality_columns:\n",
        "    top_nodes = ranks_df.nsmallest(10, centrality_measure)['Node ID'].tolist()\n",
        "    top_nodes_dict[centrality_measure] = top_nodes\n",
        "    top_nodes_all_centralities.extend(top_nodes)\n",
        "\n",
        "# Find the nodes that appear in the top 5 ranks for all centralities\n",
        "top_nodes_all_centralities = list(set(top_nodes_all_centralities))\n",
        "\n",
        "# Print top 5 nodes for each centrality measure\n",
        "for centrality_measure, top_nodes in top_nodes_dict.items():\n",
        "    print(f\"Top 10 nodes for {centrality_measure}:\")\n",
        "    for node_id in top_nodes:\n",
        "        node_label = ranks_df.loc[ranks_df['Node ID'] == node_id, 'Node Label'].values[0]\n",
        "        centrality_rank = ranks_df.loc[ranks_df['Node ID'] == node_id, centrality_measure].values[0]\n",
        "        print(f\"Node ID: {node_id}, Node Label: {node_label}, Rank: {centrality_rank}\")\n",
        "    print()\n",
        "\n",
        "# Print nodes that appear in the top 5 ranks for all centralities\n",
        "print(\"Nodes with top ranks in all centralities:\")\n",
        "for node_id in top_nodes_all_centralities:\n",
        "    node_label = ranks_df.loc[ranks_df['Node ID'] == node_id, 'Node Label'].values[0]\n",
        "    print(f\"Node ID: {node_id}, Node Label: {node_label}\")"
      ],
      "metadata": {
        "colab": {
          "base_uri": "https://localhost:8080/"
        },
        "id": "orOmMcIqsNe3",
        "outputId": "9ce9013f-0e0e-4517-81b1-29323f86528c"
      },
      "execution_count": null,
      "outputs": [
        {
          "output_type": "stream",
          "name": "stdout",
          "text": [
            "Top 10 nodes for Degree_Rank:\n",
            "Node ID: 13, Node Label: Humayun's Tomb, Rank: 1\n",
            "Node ID: 12, Node Label: Hazrat Nizamuddin Shrine, Rank: 2\n",
            "Node ID: 39, Node Label: Safdarjung Tomb, Rank: 3\n",
            "Node ID: 16, Node Label: sri Sri Radha Parthasarathi - ISKCON temple Sant Nagar, Rank: 4\n",
            "Node ID: 19, Node Label: Jhandewalan Mandir, Rank: 5\n",
            "Node ID: 37, Node Label: Raj Ghat, Rank: 6\n",
            "Node ID: 36, Node Label: Rahim-Khane-Khanam Tomb, Rank: 7\n",
            "Node ID: 25, Node Label: Amrit Udyan, Rank: 8\n",
            "Node ID: 29, Node Label: National Rail Museum, Rank: 9\n",
            "Node ID: 23, Node Label: Lodhi Tomb, Rank: 10\n",
            "\n",
            "Top 10 nodes for Betweeness_Rank:\n",
            "Node ID: 26, Node Label: National Gallery of Modern Art, Rank: 1\n",
            "Node ID: 11, Node Label: Gurudwara Bangla Sahib, Rank: 2\n",
            "Node ID: 33, Node Label: Pragati Maidan, Rank: 3\n",
            "Node ID: 19, Node Label: Jhandewalan Mandir, Rank: 4\n",
            "Node ID: 18, Node Label: Jantar Mantar, Rank: 5\n",
            "Node ID: 31, Node Label: Nehru Planetarium, Rank: 6\n",
            "Node ID: 46, Node Label: Bharat Darshan Park, Rank: 7\n",
            "Node ID: 7, Node Label: Delhi Haat -INA, Rank: 8\n",
            "Node ID: 30, Node Label: National Science Centre Museum, Rank: 9\n",
            "Node ID: 27, Node Label: National Museum, Rank: 10\n",
            "\n",
            "Top 10 nodes for closeness_rank:\n",
            "Node ID: 33, Node Label: Pragati Maidan, Rank: 1\n",
            "Node ID: 26, Node Label: National Gallery of Modern Art, Rank: 2\n",
            "Node ID: 27, Node Label: National Museum, Rank: 3\n",
            "Node ID: 30, Node Label: National Science Centre Museum, Rank: 4\n",
            "Node ID: 11, Node Label: Gurudwara Bangla Sahib, Rank: 5\n",
            "Node ID: 18, Node Label: Jantar Mantar, Rank: 6\n",
            "Node ID: 4, Node Label: Connaught Place, Rank: 7\n",
            "Node ID: 36, Node Label: Rahim-Khane-Khanam Tomb, Rank: 8\n",
            "Node ID: 15, Node Label: Shankar's International Dolls Museum, Rank: 9\n",
            "Node ID: 5, Node Label: Craft Museum, Rank: 10\n",
            "\n",
            "Top 10 nodes for Eigenvalue_rank:\n",
            "Node ID: 13, Node Label: Humayun's Tomb, Rank: 1\n",
            "Node ID: 16, Node Label: sri Sri Radha Parthasarathi - ISKCON temple Sant Nagar, Rank: 2\n",
            "Node ID: 39, Node Label: Safdarjung Tomb, Rank: 3\n",
            "Node ID: 12, Node Label: Hazrat Nizamuddin Shrine, Rank: 4\n",
            "Node ID: 37, Node Label: Raj Ghat, Rank: 5\n",
            "Node ID: 19, Node Label: Jhandewalan Mandir, Rank: 6\n",
            "Node ID: 36, Node Label: Rahim-Khane-Khanam Tomb, Rank: 7\n",
            "Node ID: 29, Node Label: National Rail Museum, Rank: 8\n",
            "Node ID: 28, Node Label: National Museum of Natural History, Rank: 9\n",
            "Node ID: 23, Node Label: Lodhi Tomb, Rank: 10\n",
            "\n",
            "Nodes with top ranks in all centralities:\n",
            "Node ID: 4, Node Label: Connaught Place\n",
            "Node ID: 5, Node Label: Craft Museum\n",
            "Node ID: 7, Node Label: Delhi Haat -INA\n",
            "Node ID: 11, Node Label: Gurudwara Bangla Sahib\n",
            "Node ID: 12, Node Label: Hazrat Nizamuddin Shrine\n",
            "Node ID: 13, Node Label: Humayun's Tomb\n",
            "Node ID: 15, Node Label: Shankar's International Dolls Museum\n",
            "Node ID: 16, Node Label: sri Sri Radha Parthasarathi - ISKCON temple Sant Nagar\n",
            "Node ID: 18, Node Label: Jantar Mantar\n",
            "Node ID: 19, Node Label: Jhandewalan Mandir\n",
            "Node ID: 23, Node Label: Lodhi Tomb\n",
            "Node ID: 25, Node Label: Amrit Udyan\n",
            "Node ID: 26, Node Label: National Gallery of Modern Art\n",
            "Node ID: 27, Node Label: National Museum\n",
            "Node ID: 28, Node Label: National Museum of Natural History\n",
            "Node ID: 29, Node Label: National Rail Museum\n",
            "Node ID: 30, Node Label: National Science Centre Museum\n",
            "Node ID: 31, Node Label: Nehru Planetarium\n",
            "Node ID: 33, Node Label: Pragati Maidan\n",
            "Node ID: 36, Node Label: Rahim-Khane-Khanam Tomb\n",
            "Node ID: 37, Node Label: Raj Ghat\n",
            "Node ID: 39, Node Label: Safdarjung Tomb\n",
            "Node ID: 46, Node Label: Bharat Darshan Park\n"
          ]
        }
      ]
    },
    {
      "cell_type": "code",
      "source": [
        "input_file = \"/content/centrality_output (2).csv\"\n",
        "df = pd.read_csv(input_file)\n",
        "\n",
        "# Calculate the average rank for each row (node)\n",
        "df[\"AverageRank\"] = df[[\"Degree_Rank\", \"Betweeness_Rank\", \"closeness_rank\", \"Eigenvalue_rank\"]].mean(axis=1)\n",
        "\n",
        "# Save the updated DataFrame to a new CSV file\n",
        "output_file = \"output_ranks_computed.csv\"\n",
        "df.to_csv(output_file, index=False)\n",
        "\n",
        "print(\"New CSV file generated with the average rank column.\")"
      ],
      "metadata": {
        "id": "MSRIMHvjuyTU",
        "colab": {
          "base_uri": "https://localhost:8080/"
        },
        "outputId": "6c71a179-300d-4c88-af54-d2c0c74526ed"
      },
      "execution_count": null,
      "outputs": [
        {
          "output_type": "stream",
          "name": "stdout",
          "text": [
            "New CSV file generated with the average rank column.\n"
          ]
        }
      ]
    }
  ]
}