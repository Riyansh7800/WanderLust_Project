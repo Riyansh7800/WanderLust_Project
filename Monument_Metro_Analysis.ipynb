{
  "nbformat": 4,
  "nbformat_minor": 0,
  "metadata": {
    "colab": {
      "provenance": []
    },
    "kernelspec": {
      "name": "python3",
      "display_name": "Python 3"
    },
    "language_info": {
      "name": "python"
    }
  },
  "cells": [
    {
      "cell_type": "code",
      "execution_count": null,
      "metadata": {
        "colab": {
          "base_uri": "https://localhost:8080/"
        },
        "id": "tnbL7ZCTyRdj",
        "outputId": "0ffef779-6c1f-4c82-cd65-95fe8f5de970"
      },
      "outputs": [
        {
          "output_type": "stream",
          "name": "stdout",
          "text": [
            "Requirement already satisfied: python-igraph in /usr/local/lib/python3.10/dist-packages (0.10.6)\n",
            "Requirement already satisfied: igraph==0.10.6 in /usr/local/lib/python3.10/dist-packages (from python-igraph) (0.10.6)\n",
            "Requirement already satisfied: texttable>=1.6.2 in /usr/local/lib/python3.10/dist-packages (from igraph==0.10.6->python-igraph) (1.6.7)\n"
          ]
        }
      ],
      "source": [
        "!pip install python-igraph\n",
        "import pandas as pd\n",
        "import igraph as ig\n",
        "\n",
        "# Load node and edge data from CSV files\n",
        "node_df = pd.read_csv('/content/Monuments_node.csv')\n",
        "edge_df = pd.read_csv('/content/filtered_edges.csv')\n",
        "\n",
        "# Create an empty graph\n",
        "graph = ig.Graph(directed=False)\n",
        "\n",
        "# Extract node IDs and labels\n",
        "node_ids = node_df['id'].tolist()\n",
        "node_labels = node_df['label'].tolist()\n",
        "\n",
        "# Add nodes to the graph\n",
        "graph.add_vertices(node_ids)\n",
        "graph.vs['label'] = node_labels\n",
        "\n",
        "# Extract and adjust edge pairs as tuples from the edge DataFrame\n",
        "edge_pairs = list(zip(edge_df['source'], edge_df['target']))\n",
        "adjusted_edge_pairs = [(source - 1, target - 1) for source, target in edge_pairs]\n",
        "\n",
        "# Add edges to the graph with adjusted node IDs\n",
        "graph.add_edges(adjusted_edge_pairs)"
      ]
    },
    {
      "cell_type": "code",
      "source": [
        "# Add edge weights as a graph attribute (assuming 'Weight' column in edge_df)\n",
        "graph.es['weight'] = edge_df['weight'].tolist()\n",
        "\n",
        "degree_centrality = graph.strength(weights='weight')\n",
        "\n",
        "# Calculate betweenness centrality (considering edge weights, weighted)\n",
        "betweenness_centrality = graph.betweenness(weights='weight')\n",
        "\n",
        "# Calculate closeness centrality (considering edge weights, weighted)\n",
        "closeness_centrality = graph.closeness(weights='weight')\n",
        "\n",
        "\n",
        "# Calculate closeness centrality (considering edge weights, weighted)\n",
        "closeness_centrality = graph.closeness(weights='weight')\n",
        "\n",
        "eigen_centrality = graph.evcent(weights='weight')\n",
        "\n",
        "# Create a dictionary to store the centrality measures for each node\n",
        "centrality_measures = {\n",
        "    'Degree Centrality': degree_centrality,\n",
        "    'Betweenness Centrality': betweenness_centrality,\n",
        "    'Closeness Centrality': closeness_centrality,\n",
        "    'Eigenvalue Centrality': eigen_centrality,\n",
        "}\n",
        "\n",
        "# Function to get top 5 nodes based on centrality values\n",
        "def get_top_nodes(centrality_values):\n",
        "    sorted_nodes = sorted(range(len(centrality_values)), key=lambda k: centrality_values[k], reverse=True)\n",
        "    return sorted_nodes[:5]\n",
        "\n",
        "# Print top 5 nodes for each centrality measure\n",
        "for name, values in centrality_measures.items():\n",
        "    print(f\"Top 5 nodes for {name}:\")\n",
        "    top_nodes = get_top_nodes(values)\n",
        "    for node_index in top_nodes:\n",
        "        node_label = node_labels[node_index]\n",
        "        centrality_value = values[node_index]\n",
        "        print(f\"Node Label: {node_label}, Centrality Value: {centrality_value}\")\n",
        "    print()"
      ],
      "metadata": {
        "colab": {
          "base_uri": "https://localhost:8080/"
        },
        "id": "97VmAZDtzJVz",
        "outputId": "38c19f09-94a2-4ef0-feb9-eda9e6049e5c"
      },
      "execution_count": null,
      "outputs": [
        {
          "output_type": "stream",
          "name": "stdout",
          "text": [
            "Top 5 nodes for Degree Centrality:\n",
            "Node Label: National Rail Museum, Centrality Value: 376.0\n",
            "Node Label: Delhi Haat -INA, Centrality Value: 330.0\n",
            "Node Label: Sultan Ghari's Tomb, Centrality Value: 323.0\n",
            "Node Label: Safdarjung Tomb, Centrality Value: 295.0\n",
            "Node Label: sri Sri Radha Parthasarathi - ISKCON temple Sant Nagar, Centrality Value: 285.0\n",
            "\n",
            "Top 5 nodes for Betweenness Centrality:\n",
            "Node Label: Delhi Haat -INA, Centrality Value: 77.72023809523805\n",
            "Node Label: National Rail Museum, Centrality Value: 36.17857142857142\n",
            "Node Label: Majnu ka Tila, Centrality Value: 23.58333333333333\n",
            "Node Label: Bharat Darshan Park, Centrality Value: 23.41666666666667\n",
            "Node Label: Nehru Planetarium, Centrality Value: 16.38690476190476\n",
            "\n",
            "Top 5 nodes for Closeness Centrality:\n",
            "Node Label: Gurudwara Rakab Ganj, Centrality Value: 0.13333333333333333\n",
            "Node Label: Amrit Udyan, Centrality Value: 0.13333333333333333\n",
            "Node Label: National Museum, Centrality Value: 0.13333333333333333\n",
            "Node Label: Gurudwara Bangla Sahib, Centrality Value: 0.125\n",
            "Node Label: Jantar Mantar, Centrality Value: 0.125\n",
            "\n",
            "Top 5 nodes for Eigenvalue Centrality:\n",
            "Node Label: National Rail Museum, Centrality Value: 1.0\n",
            "Node Label: Sultan Ghari's Tomb, Centrality Value: 0.920900623757454\n",
            "Node Label: Delhi Haat -INA, Centrality Value: 0.8747613877713195\n",
            "Node Label: Safdarjung Tomb, Centrality Value: 0.815789697551505\n",
            "Node Label: Akshardham Temple, Centrality Value: 0.7940809123034162\n",
            "\n"
          ]
        }
      ]
    },
    {
      "cell_type": "code",
      "source": [
        "# Calculate the minimum and maximum degree centrality values\n",
        "min_degree_centrality = min(degree_centrality)\n",
        "max_degree_centrality = max(degree_centrality)\n",
        "\n",
        "# Normalize the degree centrality values using Min-Max normalization\n",
        "normalized_degree_centrality = [(value - min_degree_centrality) / (max_degree_centrality - min_degree_centrality) for value in degree_centrality]\n",
        "max_betweenness_centrality = max(betweenness_centrality)\n",
        "\n",
        "# Normalize the betweenness centrality values by dividing each value by the maximum\n",
        "normalized_betweenness_centrality = [value / max_betweenness_centrality for value in betweenness_centrality]\n",
        "\n",
        "# Create a dictionary to store the centrality measures for each node (including the normalized degree centrality and betweenness centrality)\n",
        "\n",
        "centrality_data = pd.DataFrame({\n",
        "    'Node ID': node_ids,\n",
        "    'Node Label': node_labels,\n",
        "   'Degree Centrality': normalized_degree_centrality,\n",
        "    'Betweenness Centrality': normalized_betweenness_centrality,\n",
        "    'Closeness Centrality': closeness_centrality,\n",
        "    'Eigenvalue Centrality': eigen_centrality,\n",
        "})\n",
        "\n",
        "output_filename = 'metro_centralities_output.csv'\n",
        "centrality_data.to_csv(output_filename, index=False)\n",
        "\n",
        "print(\"Centrality data saved to:\", output_filename)"
      ],
      "metadata": {
        "colab": {
          "base_uri": "https://localhost:8080/"
        },
        "id": "objfN4lZzXrb",
        "outputId": "84b8969a-3838-4b71-9656-01891019c9b8"
      },
      "execution_count": null,
      "outputs": [
        {
          "output_type": "stream",
          "name": "stdout",
          "text": [
            "Centrality data saved to: metro_centralities_output.csv\n"
          ]
        }
      ]
    },
    {
      "cell_type": "code",
      "source": [
        "ranks_df = pd.read_csv('/content/metro_centralities_output_Rank_Computed.csv')\n",
        "\n",
        "top_nodes_dict = {}\n",
        "\n",
        "# List to store all nodes that appear in the top 5 ranks for all centralities\n",
        "top_nodes_all_centralities = []\n",
        "\n",
        "# Centrality measures column names (modify these based on your CSV file)\n",
        "centrality_columns = ['Degree_Rank', 'Betweeness_Rank', 'Closeness_Rank', 'EigenVector_Rank']\n",
        "\n",
        "# Find top 5 nodes for each centrality measure\n",
        "for centrality_measure in centrality_columns:\n",
        "    top_nodes = ranks_df.nsmallest(10, centrality_measure)['Node ID'].tolist()\n",
        "    top_nodes_dict[centrality_measure] = top_nodes\n",
        "    top_nodes_all_centralities.extend(top_nodes)\n",
        "\n",
        "# Find the nodes that appear in the top 5 ranks for all centralities\n",
        "top_nodes_all_centralities = list(set(top_nodes_all_centralities))\n",
        "\n",
        "# Print top 5 nodes for each centrality measure\n",
        "for centrality_measure, top_nodes in top_nodes_dict.items():\n",
        "    print(f\"Top 10 nodes for {centrality_measure}:\")\n",
        "    for node_id in top_nodes:\n",
        "        node_label = ranks_df.loc[ranks_df['Node ID'] == node_id, 'Node Label'].values[0]\n",
        "        centrality_rank = ranks_df.loc[ranks_df['Node ID'] == node_id, centrality_measure].values[0]\n",
        "        print(f\"Node ID: {node_id}, Node Label: {node_label}, Rank: {centrality_rank}\")\n",
        "    print()\n",
        "\n",
        "# Print nodes that appear in the top 5 ranks for all centralities\n",
        "print(\"Nodes with top ranks in all centralities:\")\n",
        "for node_id in top_nodes_all_centralities:\n",
        "    node_label = ranks_df.loc[ranks_df['Node ID'] == node_id, 'Node Label'].values[0]\n",
        "    print(f\"Node ID: {node_id}, Node Label: {node_label}\")"
      ],
      "metadata": {
        "colab": {
          "base_uri": "https://localhost:8080/"
        },
        "id": "d3gQK-M0ztnI",
        "outputId": "59d52411-dd12-47c1-e819-69c2318de6a8"
      },
      "execution_count": null,
      "outputs": [
        {
          "output_type": "stream",
          "name": "stdout",
          "text": [
            "Top 10 nodes for Degree_Rank:\n",
            "Node ID: 29, Node Label: National Rail Museum, Rank: 1\n",
            "Node ID: 7, Node Label: Delhi Haat -INA, Rank: 2\n",
            "Node ID: 41, Node Label: Sultan Ghari's Tomb, Rank: 3\n",
            "Node ID: 39, Node Label: Safdarjung Tomb, Rank: 4\n",
            "Node ID: 16, Node Label: sri Sri Radha Parthasarathi - ISKCON temple Sant Nagar, Rank: 5\n",
            "Node ID: 32, Node Label: Majnu ka Tila, Rank: 6\n",
            "Node ID: 31, Node Label: Nehru Planetarium, Rank: 7\n",
            "Node ID: 38, Node Label: Red Fort, Rank: 8\n",
            "Node ID: 2, Node Label: Akshardham Temple, Rank: 9\n",
            "Node ID: 12, Node Label: Hazrat Nizamuddin Shrine, Rank: 10\n",
            "\n",
            "Top 10 nodes for Betweeness_Rank:\n",
            "Node ID: 7, Node Label: Delhi Haat -INA, Rank: 1\n",
            "Node ID: 29, Node Label: National Rail Museum, Rank: 2\n",
            "Node ID: 32, Node Label: Majnu ka Tila, Rank: 3\n",
            "Node ID: 46, Node Label: Bharat Darshan Park, Rank: 4\n",
            "Node ID: 39, Node Label: Safdarjung Tomb, Rank: 5\n",
            "Node ID: 31, Node Label: Nehru Planetarium, Rank: 6\n",
            "Node ID: 9, Node Label: Gurudwara Rakab Ganj, Rank: 7\n",
            "Node ID: 25, Node Label: Amrit Udyan, Rank: 8\n",
            "Node ID: 27, Node Label: National Museum, Rank: 9\n",
            "Node ID: 4, Node Label: Connaught Place, Rank: 10\n",
            "\n",
            "Top 10 nodes for Closeness_Rank:\n",
            "Node ID: 9, Node Label: Gurudwara Rakab Ganj, Rank: 1\n",
            "Node ID: 25, Node Label: Amrit Udyan, Rank: 2\n",
            "Node ID: 27, Node Label: National Museum, Rank: 3\n",
            "Node ID: 11, Node Label: Gurudwara Bangla Sahib, Rank: 4\n",
            "Node ID: 18, Node Label: Jantar Mantar, Rank: 5\n",
            "Node ID: 4, Node Label: Connaught Place, Rank: 6\n",
            "Node ID: 6, Node Label: Delhi Zoo, Rank: 7\n",
            "Node ID: 14, Node Label: India Gate Monument, Rank: 8\n",
            "Node ID: 23, Node Label: Lodhi Tomb, Rank: 9\n",
            "Node ID: 26, Node Label: National Gallery of Modern Art, Rank: 10\n",
            "\n",
            "Top 10 nodes for EigenVector_Rank:\n",
            "Node ID: 29, Node Label: National Rail Museum, Rank: 1\n",
            "Node ID: 41, Node Label: Sultan Ghari's Tomb, Rank: 2\n",
            "Node ID: 7, Node Label: Delhi Haat -INA, Rank: 3\n",
            "Node ID: 39, Node Label: Safdarjung Tomb, Rank: 4\n",
            "Node ID: 2, Node Label: Akshardham Temple, Rank: 5\n",
            "Node ID: 16, Node Label: sri Sri Radha Parthasarathi - ISKCON temple Sant Nagar, Rank: 6\n",
            "Node ID: 31, Node Label: Nehru Planetarium, Rank: 7\n",
            "Node ID: 38, Node Label: Red Fort, Rank: 8\n",
            "Node ID: 32, Node Label: Majnu ka Tila, Rank: 9\n",
            "Node ID: 12, Node Label: Hazrat Nizamuddin Shrine, Rank: 10\n",
            "\n",
            "Nodes with top ranks in all centralities:\n",
            "Node ID: 2, Node Label: Akshardham Temple\n",
            "Node ID: 4, Node Label: Connaught Place\n",
            "Node ID: 6, Node Label: Delhi Zoo\n",
            "Node ID: 7, Node Label: Delhi Haat -INA\n",
            "Node ID: 9, Node Label: Gurudwara Rakab Ganj\n",
            "Node ID: 11, Node Label: Gurudwara Bangla Sahib\n",
            "Node ID: 12, Node Label: Hazrat Nizamuddin Shrine\n",
            "Node ID: 14, Node Label: India Gate Monument\n",
            "Node ID: 16, Node Label: sri Sri Radha Parthasarathi - ISKCON temple Sant Nagar\n",
            "Node ID: 18, Node Label: Jantar Mantar\n",
            "Node ID: 23, Node Label: Lodhi Tomb\n",
            "Node ID: 25, Node Label: Amrit Udyan\n",
            "Node ID: 26, Node Label: National Gallery of Modern Art\n",
            "Node ID: 27, Node Label: National Museum\n",
            "Node ID: 29, Node Label: National Rail Museum\n",
            "Node ID: 31, Node Label: Nehru Planetarium\n",
            "Node ID: 32, Node Label: Majnu ka Tila\n",
            "Node ID: 38, Node Label: Red Fort\n",
            "Node ID: 39, Node Label: Safdarjung Tomb\n",
            "Node ID: 41, Node Label: Sultan Ghari's Tomb\n",
            "Node ID: 46, Node Label: Bharat Darshan Park\n"
          ]
        }
      ]
    },
    {
      "cell_type": "code",
      "source": [
        "# Add edge weights as a graph attribute (assuming 'Weight' column in edge_df)\n",
        "graph.es['weight'] = edge_df['weight'].tolist()\n",
        "\n",
        "degree_centrality = graph.strength()\n",
        "\n",
        "# Calculate betweenness centrality (considering edge weights, weighted)\n",
        "betweenness_centrality = graph.betweenness()\n",
        "\n",
        "# Calculate closeness centrality (considering edge weights, weighted)\n",
        "closeness_centrality = graph.closeness()\n",
        "\n",
        "\n",
        "# Calculate closeness centrality (considering edge weights, weighted)\n",
        "closeness_centrality = graph.closeness()\n",
        "\n",
        "eigen_centrality = graph.evcent()\n",
        "\n",
        "# Create a dictionary to store the centrality measures for each node\n",
        "centrality_measures = {\n",
        "    'Degree Centrality': degree_centrality,\n",
        "    'Betweenness Centrality': betweenness_centrality,\n",
        "    'Closeness Centrality': closeness_centrality,\n",
        "    'Eigenvalue Centrality': eigen_centrality,\n",
        "}\n",
        "\n",
        "# Function to get top 5 nodes based on centrality values\n",
        "def get_top_nodes(centrality_values):\n",
        "    sorted_nodes = sorted(range(len(centrality_values)), key=lambda k: centrality_values[k], reverse=True)\n",
        "    return sorted_nodes[:5]\n",
        "\n",
        "# Print top 5 nodes for each centrality measure\n",
        "for name, values in centrality_measures.items():\n",
        "    print(f\"Top 5 nodes for {name}:\")\n",
        "    top_nodes = get_top_nodes(values)\n",
        "    for node_index in top_nodes:\n",
        "        node_label = node_labels[node_index]\n",
        "        centrality_value = values[node_index]\n",
        "        print(f\"Node Label: {node_label}, Centrality Value: {centrality_value}\")\n",
        "    print()"
      ],
      "metadata": {
        "colab": {
          "base_uri": "https://localhost:8080/"
        },
        "id": "55pu7yVw6EOz",
        "outputId": "881414bf-5a2d-48b9-9eef-88df57e242bf"
      },
      "execution_count": null,
      "outputs": [
        {
          "output_type": "stream",
          "name": "stdout",
          "text": [
            "Top 5 nodes for Degree Centrality:\n",
            "Node Label: National Rail Museum, Centrality Value: 42.0\n",
            "Node Label: Delhi Haat -INA, Centrality Value: 41.0\n",
            "Node Label: Gurudwara Rakab Ganj, Centrality Value: 39.0\n",
            "Node Label: Amrit Udyan, Centrality Value: 39.0\n",
            "Node Label: National Museum, Centrality Value: 39.0\n",
            "\n",
            "Top 5 nodes for Betweenness Centrality:\n",
            "Node Label: Delhi Haat -INA, Centrality Value: 50.58663177310109\n",
            "Node Label: National Rail Museum, Centrality Value: 37.033699175816764\n",
            "Node Label: Majnu ka Tila, Centrality Value: 31.977351916376307\n",
            "Node Label: Nehru Planetarium, Centrality Value: 14.679892826695898\n",
            "Node Label: Safdarjung Tomb, Centrality Value: 14.679892826695898\n",
            "\n",
            "Top 5 nodes for Closeness Centrality:\n",
            "Node Label: National Rail Museum, Centrality Value: 0.9565217391304348\n",
            "Node Label: Delhi Haat -INA, Centrality Value: 0.9361702127659575\n",
            "Node Label: Gurudwara Rakab Ganj, Centrality Value: 0.8979591836734694\n",
            "Node Label: Amrit Udyan, Centrality Value: 0.8979591836734694\n",
            "Node Label: National Museum, Centrality Value: 0.8979591836734694\n",
            "\n",
            "Top 5 nodes for Eigenvalue Centrality:\n",
            "Node Label: National Rail Museum, Centrality Value: 1.0\n",
            "Node Label: Amrit Udyan, Centrality Value: 0.9797466731958313\n",
            "Node Label: National Museum, Centrality Value: 0.9797466731958311\n",
            "Node Label: Gurudwara Rakab Ganj, Centrality Value: 0.979746673195831\n",
            "Node Label: Delhi Haat -INA, Centrality Value: 0.9766692279131843\n",
            "\n"
          ]
        }
      ]
    },
    {
      "cell_type": "code",
      "source": [
        "# Calculate the minimum and maximum degree centrality values\n",
        "min_degree_centrality = min(degree_centrality)\n",
        "max_degree_centrality = max(degree_centrality)\n",
        "\n",
        "# Normalize the degree centrality values using Min-Max normalization\n",
        "normalized_degree_centrality = [(value - min_degree_centrality) / (max_degree_centrality - min_degree_centrality) for value in degree_centrality]\n",
        "max_betweenness_centrality = max(betweenness_centrality)\n",
        "\n",
        "# Normalize the betweenness centrality values by dividing each value by the maximum\n",
        "normalized_betweenness_centrality = [value / max_betweenness_centrality for value in betweenness_centrality]\n",
        "\n",
        "# Create a dictionary to store the centrality measures for each node (including the normalized degree centrality and betweenness centrality)\n",
        "\n",
        "centrality_data = pd.DataFrame({\n",
        "    'Node ID': node_ids,\n",
        "    'Node Label': node_labels,\n",
        "   'Degree Centrality': normalized_degree_centrality,\n",
        "    'Betweenness Centrality': normalized_betweenness_centrality,\n",
        "    'Closeness Centrality': closeness_centrality,\n",
        "    'Eigenvalue Centrality': eigen_centrality,\n",
        "})\n",
        "\n",
        "output_filename = 'metro_unweighted_centralities_output.csv'\n",
        "centrality_data.to_csv(output_filename, index=False)\n",
        "\n",
        "print(\"Centrality data saved to:\", output_filename)"
      ],
      "metadata": {
        "colab": {
          "base_uri": "https://localhost:8080/"
        },
        "id": "kNOuAbgp8A7t",
        "outputId": "76ec735e-f2e7-41dc-952f-219eadfc40c7"
      },
      "execution_count": null,
      "outputs": [
        {
          "output_type": "stream",
          "name": "stdout",
          "text": [
            "Centrality data saved to: metro_unweighted_centralities_output.csv\n"
          ]
        }
      ]
    }
  ]
}